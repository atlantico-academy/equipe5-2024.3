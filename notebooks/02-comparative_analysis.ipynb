{
 "cells": [
  {
   "cell_type": "markdown",
   "metadata": {},
   "source": [
    "# Ánalise Comparativa"
   ]
  },
  {
   "cell_type": "markdown",
   "metadata": {},
   "source": [
    "* **Importando Bibliotecas**"
   ]
  },
  {
   "cell_type": "code",
   "execution_count": 25,
   "metadata": {},
   "outputs": [],
   "source": [
    "import pandas as pd\n",
    "import numpy as np\n",
    "import seaborn as sns\n",
    "import matplotlib.pyplot as plt\n",
    "from sklearn.impute import SimpleImputer, KNNImputer\n",
    "from sklearn.pipeline import Pipeline\n",
    "from sklearn.compose import ColumnTransformer\n",
    "from sklearn.preprocessing import OneHotEncoder, OrdinalEncoder, StandardScaler\n",
    "from sklearn.linear_model import LinearRegression\n",
    "from sklearn.model_selection import train_test_split\n",
    "from sklearn.metrics import mean_absolute_error, mean_squared_error, r2_score\n",
    "from sklearn.model_selection import cross_val_score\n",
    "import joblib"
   ]
  },
  {
   "cell_type": "markdown",
   "metadata": {},
   "source": [
    "#### **Leitura dos Dados**"
   ]
  },
  {
   "cell_type": "code",
   "execution_count": 26,
   "metadata": {},
   "outputs": [
    {
     "data": {
      "text/html": [
       "<div>\n",
       "<style scoped>\n",
       "    .dataframe tbody tr th:only-of-type {\n",
       "        vertical-align: middle;\n",
       "    }\n",
       "\n",
       "    .dataframe tbody tr th {\n",
       "        vertical-align: top;\n",
       "    }\n",
       "\n",
       "    .dataframe thead th {\n",
       "        text-align: right;\n",
       "    }\n",
       "</style>\n",
       "<table border=\"1\" class=\"dataframe\">\n",
       "  <thead>\n",
       "    <tr style=\"text-align: right;\">\n",
       "      <th></th>\n",
       "      <th>winery</th>\n",
       "      <th>wine</th>\n",
       "      <th>year</th>\n",
       "      <th>rating</th>\n",
       "      <th>num_reviews</th>\n",
       "      <th>country</th>\n",
       "      <th>region</th>\n",
       "      <th>price</th>\n",
       "      <th>type</th>\n",
       "      <th>body</th>\n",
       "      <th>acidity</th>\n",
       "    </tr>\n",
       "  </thead>\n",
       "  <tbody>\n",
       "    <tr>\n",
       "      <th>0</th>\n",
       "      <td>Teso La Monja</td>\n",
       "      <td>Tinto</td>\n",
       "      <td>2013</td>\n",
       "      <td>4.9</td>\n",
       "      <td>58</td>\n",
       "      <td>Espana</td>\n",
       "      <td>Toro</td>\n",
       "      <td>995.00</td>\n",
       "      <td>Toro Red</td>\n",
       "      <td>5.0</td>\n",
       "      <td>3.0</td>\n",
       "    </tr>\n",
       "    <tr>\n",
       "      <th>1</th>\n",
       "      <td>Artadi</td>\n",
       "      <td>Vina El Pison</td>\n",
       "      <td>2018</td>\n",
       "      <td>4.9</td>\n",
       "      <td>31</td>\n",
       "      <td>Espana</td>\n",
       "      <td>Vino de Espana</td>\n",
       "      <td>313.50</td>\n",
       "      <td>Tempranillo</td>\n",
       "      <td>4.0</td>\n",
       "      <td>2.0</td>\n",
       "    </tr>\n",
       "    <tr>\n",
       "      <th>2</th>\n",
       "      <td>Vega Sicilia</td>\n",
       "      <td>Unico</td>\n",
       "      <td>2009</td>\n",
       "      <td>4.8</td>\n",
       "      <td>1793</td>\n",
       "      <td>Espana</td>\n",
       "      <td>Ribera del Duero</td>\n",
       "      <td>324.95</td>\n",
       "      <td>Ribera Del Duero Red</td>\n",
       "      <td>5.0</td>\n",
       "      <td>3.0</td>\n",
       "    </tr>\n",
       "    <tr>\n",
       "      <th>3</th>\n",
       "      <td>Vega Sicilia</td>\n",
       "      <td>Unico</td>\n",
       "      <td>1999</td>\n",
       "      <td>4.8</td>\n",
       "      <td>1705</td>\n",
       "      <td>Espana</td>\n",
       "      <td>Ribera del Duero</td>\n",
       "      <td>692.96</td>\n",
       "      <td>Ribera Del Duero Red</td>\n",
       "      <td>5.0</td>\n",
       "      <td>3.0</td>\n",
       "    </tr>\n",
       "    <tr>\n",
       "      <th>4</th>\n",
       "      <td>Vega Sicilia</td>\n",
       "      <td>Unico</td>\n",
       "      <td>1996</td>\n",
       "      <td>4.8</td>\n",
       "      <td>1309</td>\n",
       "      <td>Espana</td>\n",
       "      <td>Ribera del Duero</td>\n",
       "      <td>778.06</td>\n",
       "      <td>Ribera Del Duero Red</td>\n",
       "      <td>5.0</td>\n",
       "      <td>3.0</td>\n",
       "    </tr>\n",
       "  </tbody>\n",
       "</table>\n",
       "</div>"
      ],
      "text/plain": [
       "          winery           wine  year  rating  num_reviews country  \\\n",
       "0  Teso La Monja          Tinto  2013     4.9           58  Espana   \n",
       "1         Artadi  Vina El Pison  2018     4.9           31  Espana   \n",
       "2   Vega Sicilia          Unico  2009     4.8         1793  Espana   \n",
       "3   Vega Sicilia          Unico  1999     4.8         1705  Espana   \n",
       "4   Vega Sicilia          Unico  1996     4.8         1309  Espana   \n",
       "\n",
       "             region   price                  type  body  acidity  \n",
       "0              Toro  995.00              Toro Red   5.0      3.0  \n",
       "1    Vino de Espana  313.50           Tempranillo   4.0      2.0  \n",
       "2  Ribera del Duero  324.95  Ribera Del Duero Red   5.0      3.0  \n",
       "3  Ribera del Duero  692.96  Ribera Del Duero Red   5.0      3.0  \n",
       "4  Ribera del Duero  778.06  Ribera Del Duero Red   5.0      3.0  "
      ]
     },
     "execution_count": 26,
     "metadata": {},
     "output_type": "execute_result"
    }
   ],
   "source": [
    "df= pd.read_csv(\"../data/raw/wines_SPA.csv\")\n",
    "df.head()"
   ]
  },
  {
   "cell_type": "code",
   "execution_count": 27,
   "metadata": {},
   "outputs": [
    {
     "data": {
      "text/html": [
       "<div>\n",
       "<style scoped>\n",
       "    .dataframe tbody tr th:only-of-type {\n",
       "        vertical-align: middle;\n",
       "    }\n",
       "\n",
       "    .dataframe tbody tr th {\n",
       "        vertical-align: top;\n",
       "    }\n",
       "\n",
       "    .dataframe thead th {\n",
       "        text-align: right;\n",
       "    }\n",
       "</style>\n",
       "<table border=\"1\" class=\"dataframe\">\n",
       "  <thead>\n",
       "    <tr style=\"text-align: right;\">\n",
       "      <th></th>\n",
       "      <th>variavel</th>\n",
       "      <th>descricao</th>\n",
       "      <th>tipo</th>\n",
       "      <th>subtipo</th>\n",
       "    </tr>\n",
       "  </thead>\n",
       "  <tbody>\n",
       "    <tr>\n",
       "      <th>0</th>\n",
       "      <td>winery</td>\n",
       "      <td>Nome da vinícola</td>\n",
       "      <td>qualitativa</td>\n",
       "      <td>nominal</td>\n",
       "    </tr>\n",
       "    <tr>\n",
       "      <th>1</th>\n",
       "      <td>wine</td>\n",
       "      <td>Nome do vinho</td>\n",
       "      <td>qualitativa</td>\n",
       "      <td>nominal</td>\n",
       "    </tr>\n",
       "    <tr>\n",
       "      <th>2</th>\n",
       "      <td>year</td>\n",
       "      <td>Ano em que as uvas foram colhidas</td>\n",
       "      <td>quantitativa</td>\n",
       "      <td>discreta</td>\n",
       "    </tr>\n",
       "    <tr>\n",
       "      <th>3</th>\n",
       "      <td>rating</td>\n",
       "      <td>Avaliação média dada ao vinho pelos usuários [...</td>\n",
       "      <td>quantitativa</td>\n",
       "      <td>contínua</td>\n",
       "    </tr>\n",
       "    <tr>\n",
       "      <th>4</th>\n",
       "      <td>num_reviews</td>\n",
       "      <td>Número de usuários que avaliaram o vinho</td>\n",
       "      <td>quantitativa</td>\n",
       "      <td>discreta</td>\n",
       "    </tr>\n",
       "    <tr>\n",
       "      <th>5</th>\n",
       "      <td>country</td>\n",
       "      <td>País de origem [Espanha]</td>\n",
       "      <td>inútil</td>\n",
       "      <td>inútil</td>\n",
       "    </tr>\n",
       "    <tr>\n",
       "      <th>6</th>\n",
       "      <td>region</td>\n",
       "      <td>Região do vinho</td>\n",
       "      <td>qualitativa</td>\n",
       "      <td>nominal</td>\n",
       "    </tr>\n",
       "    <tr>\n",
       "      <th>7</th>\n",
       "      <td>price</td>\n",
       "      <td>Preço em euros [€]</td>\n",
       "      <td>quantitativa</td>\n",
       "      <td>contínua</td>\n",
       "    </tr>\n",
       "    <tr>\n",
       "      <th>8</th>\n",
       "      <td>type</td>\n",
       "      <td>Variedade de vinho</td>\n",
       "      <td>qualitativa</td>\n",
       "      <td>nominal</td>\n",
       "    </tr>\n",
       "    <tr>\n",
       "      <th>9</th>\n",
       "      <td>body</td>\n",
       "      <td>Pontuação de corpo, definida como a riqueza e ...</td>\n",
       "      <td>qualitativa</td>\n",
       "      <td>ordinal</td>\n",
       "    </tr>\n",
       "    <tr>\n",
       "      <th>10</th>\n",
       "      <td>acidity</td>\n",
       "      <td>Pontuação de acidez, definida como o frescor e...</td>\n",
       "      <td>qualitativa</td>\n",
       "      <td>ordinal</td>\n",
       "    </tr>\n",
       "  </tbody>\n",
       "</table>\n",
       "</div>"
      ],
      "text/plain": [
       "       variavel                                          descricao  \\\n",
       "0        winery                                   Nome da vinícola   \n",
       "1          wine                                      Nome do vinho   \n",
       "2          year                  Ano em que as uvas foram colhidas   \n",
       "3        rating  Avaliação média dada ao vinho pelos usuários [...   \n",
       "4   num_reviews           Número de usuários que avaliaram o vinho   \n",
       "5       country                           País de origem [Espanha]   \n",
       "6        region                                    Região do vinho   \n",
       "7         price                                 Preço em euros [€]   \n",
       "8          type                                 Variedade de vinho   \n",
       "9          body  Pontuação de corpo, definida como a riqueza e ...   \n",
       "10      acidity  Pontuação de acidez, definida como o frescor e...   \n",
       "\n",
       "            tipo   subtipo  \n",
       "0    qualitativa   nominal  \n",
       "1    qualitativa   nominal  \n",
       "2   quantitativa  discreta  \n",
       "3   quantitativa  contínua  \n",
       "4   quantitativa  discreta  \n",
       "5         inútil    inútil  \n",
       "6    qualitativa   nominal  \n",
       "7   quantitativa  contínua  \n",
       "8    qualitativa   nominal  \n",
       "9    qualitativa   ordinal  \n",
       "10   qualitativa   ordinal  "
      ]
     },
     "execution_count": 27,
     "metadata": {},
     "output_type": "execute_result"
    }
   ],
   "source": [
    "df_dict = pd.read_csv('../data/external/dictionary.csv')\n",
    "df_dict"
   ]
  },
  {
   "cell_type": "markdown",
   "metadata": {},
   "source": [
    "#### **Renomeando as colunas**"
   ]
  },
  {
   "cell_type": "code",
   "execution_count": 28,
   "metadata": {},
   "outputs": [],
   "source": [
    "mapeamento_colunas = {\n",
    "    'winery': 'vinícola',\n",
    "    'wine': 'vinho',\n",
    "    'year': 'ano',\n",
    "    'rating': 'avaliação',\n",
    "    'num_reviews': 'num_avaliações',\n",
    "    'country': 'país',\n",
    "    'region': 'região',\n",
    "    'price': 'preço',\n",
    "    'type': 'tipo',\n",
    "    'body': 'corpo',\n",
    "    'acidity': 'acidez'\n",
    "}"
   ]
  },
  {
   "cell_type": "code",
   "execution_count": 29,
   "metadata": {},
   "outputs": [],
   "source": [
    "def renomear_colunas(df, mapping):\n",
    "    df.rename(columns=mapping, inplace=True)\n",
    "    return df"
   ]
  },
  {
   "cell_type": "code",
   "execution_count": 30,
   "metadata": {},
   "outputs": [
    {
     "data": {
      "text/plain": [
       "Index(['vinícola', 'vinho', 'ano', 'avaliação', 'num_avaliações', 'país',\n",
       "       'região', 'preço', 'tipo', 'corpo', 'acidez'],\n",
       "      dtype='object')"
      ]
     },
     "execution_count": 30,
     "metadata": {},
     "output_type": "execute_result"
    }
   ],
   "source": [
    "df_dict['variavel'] = df_dict['variavel'].replace(mapeamento_colunas)\n",
    "df = renomear_colunas(df, mapeamento_colunas)\n",
    "df.columns"
   ]
  },
  {
   "cell_type": "markdown",
   "metadata": {},
   "source": [
    "## Tratamento e Transformação de dados"
   ]
  },
  {
   "cell_type": "markdown",
   "metadata": {},
   "source": [
    "#### **Verificando os Valores Faltantes e Dados Duplicados**"
   ]
  },
  {
   "cell_type": "code",
   "execution_count": 31,
   "metadata": {},
   "outputs": [
    {
     "name": "stdout",
     "output_type": "stream",
     "text": [
      "5452\n"
     ]
    }
   ],
   "source": [
    "print(df.duplicated().sum())"
   ]
  },
  {
   "cell_type": "code",
   "execution_count": 32,
   "metadata": {},
   "outputs": [
    {
     "name": "stdout",
     "output_type": "stream",
     "text": [
      "Number of Duplicates: 0\n"
     ]
    }
   ],
   "source": [
    "df = df.drop(df[df.duplicated()].index, axis=0)\n",
    "df.reset_index()\n",
    "print(f'Number of Duplicates: {df.duplicated().sum()}')"
   ]
  },
  {
   "cell_type": "code",
   "execution_count": 33,
   "metadata": {},
   "outputs": [],
   "source": [
    "df['ano'] = df['ano'].replace('N.V.', np.nan)"
   ]
  },
  {
   "cell_type": "code",
   "execution_count": 34,
   "metadata": {},
   "outputs": [
    {
     "name": "stdout",
     "output_type": "stream",
     "text": [
      "Verificando valores faltantes : \n",
      "\n",
      "vinícola            0\n",
      "vinho               0\n",
      "ano                72\n",
      "avaliação           0\n",
      "num_avaliações      0\n",
      "país                0\n",
      "região              0\n",
      "preço               0\n",
      "tipo              106\n",
      "corpo             271\n",
      "acidez            271\n",
      "dtype: int64\n"
     ]
    }
   ],
   "source": [
    "print(f'Verificando valores faltantes : \\n\\n{df.isna().sum()}')"
   ]
  },
  {
   "cell_type": "markdown",
   "metadata": {},
   "source": [
    "* **Verificando os Valores discrepantes**"
   ]
  },
  {
   "cell_type": "code",
   "execution_count": 35,
   "metadata": {},
   "outputs": [],
   "source": [
    "# Função para identificar outliers usando o IQR\n",
    "def detect_outliers_iqr(df, column):\n",
    "    Q1 = df[column].quantile(0.25)  # Primeiro quartil\n",
    "    Q3 = df[column].quantile(0.75)  # Terceiro quartil\n",
    "    IQR = Q3 - Q1                     # Intervalo Interquartil\n",
    "    \n",
    "    lower_bound = Q1 - 1.5 * IQR      # Limite inferior\n",
    "    upper_bound = Q3 + 1.5 * IQR      # Limite superior\n",
    "    \n",
    "    outliers = df[(df[column] < lower_bound) | (df[column] > upper_bound)]\n",
    "    return outliers"
   ]
  },
  {
   "cell_type": "code",
   "execution_count": 36,
   "metadata": {},
   "outputs": [
    {
     "name": "stdout",
     "output_type": "stream",
     "text": [
      "           Coluna  Quantidade de Outliers\n",
      "0       avaliação                       2\n",
      "1  num_avaliações                     242\n",
      "2           preço                     245\n",
      "3           corpo                      34\n",
      "4          acidez                     105\n"
     ]
    }
   ],
   "source": [
    "# Detectando outliers apenas para colunas numéricas\n",
    "outliers_summary = []\n",
    "\n",
    "for col in df.select_dtypes(include=[np.number]).columns:  # Filtra apenas colunas numéricas\n",
    "    outliers = detect_outliers_iqr(df, col)\n",
    "    if not outliers.empty:\n",
    "        outliers_summary.append({'Coluna': col, 'Quantidade de Outliers': len(outliers)})\n",
    "\n",
    "outliers_df = pd.DataFrame(outliers_summary)\n",
    "\n",
    "print(outliers_df)"
   ]
  },
  {
   "cell_type": "markdown",
   "metadata": {},
   "source": [
    "# Pré-Processamento dos Dados"
   ]
  },
  {
   "cell_type": "code",
   "execution_count": 37,
   "metadata": {},
   "outputs": [],
   "source": [
    "# Variável alvo\n",
    "target_variable = 'preço'\n",
    "\n",
    "# Variáveis inúteis\n",
    "useless_variables = (\n",
    "    df_dict\n",
    "    .query(\"tipo == 'inútil'\")\n",
    "    .variavel\n",
    "    .to_list()\n",
    ")\n",
    "\n",
    "# Variáveis nominais\n",
    "nominal_variables = (\n",
    "    df_dict\n",
    "    .query(\"subtipo == 'nominal' and variavel != @target_variable\")\n",
    "    .variavel\n",
    "    .to_list()\n",
    ")\n",
    "\n",
    "# Variáveis ordinais\n",
    "ordinal_variables = (\n",
    "    df_dict\n",
    "    .query(\"subtipo == 'ordinal' and variavel != @target_variable\")\n",
    "    .variavel\n",
    "    .to_list()\n",
    ")\n",
    "\n",
    "# Variáveis contínuas\n",
    "continuous_variables = (\n",
    "    df_dict\n",
    "    .query(\"subtipo == 'contínua' and variavel != @target_variable\")\n",
    "    .variavel\n",
    "    .to_list()\n",
    ")\n",
    "\n",
    "# Variáveis discretas\n",
    "discrete_variables = (\n",
    "    df_dict\n",
    "    .query(\"subtipo == 'discreta' and variavel != @target_variable\")\n",
    "    .variavel\n",
    "    .to_list()\n",
    ")"
   ]
  },
  {
   "cell_type": "code",
   "execution_count": 38,
   "metadata": {},
   "outputs": [],
   "source": [
    "X = df.drop(columns=[target_variable] + useless_variables)\n",
    "y = df[target_variable]"
   ]
  },
  {
   "cell_type": "code",
   "execution_count": 39,
   "metadata": {},
   "outputs": [
    {
     "name": "stdout",
     "output_type": "stream",
     "text": [
      "Nominal Variables: ['vinícola', 'vinho', 'região', 'tipo']\n",
      "Ordinal Variables: ['corpo', 'acidez']\n",
      "Continuous Variables: ['avaliação']\n",
      "Discrete Variables: ['ano', 'num_avaliações']\n"
     ]
    }
   ],
   "source": [
    "# Exibindo as categorias de variáveis\n",
    "print(\"Nominal Variables:\", nominal_variables)\n",
    "print(\"Ordinal Variables:\", ordinal_variables)\n",
    "print(\"Continuous Variables:\", continuous_variables)\n",
    "print(\"Discrete Variables:\", discrete_variables)"
   ]
  },
  {
   "cell_type": "markdown",
   "metadata": {},
   "source": [
    "O código acima organiza e prepara os dados de forma sistemática para análise ou modelagem. Ele facilita a aplicação de diferentes técnicas a cada tipo de variável, como codificação (para nominais) ou normalização (para contínuas)"
   ]
  },
  {
   "cell_type": "markdown",
   "metadata": {},
   "source": [
    "#### **Pipelines de pré-processamento por tipo de variável**"
   ]
  },
  {
   "cell_type": "code",
   "execution_count": 40,
   "metadata": {},
   "outputs": [],
   "source": [
    "# Nominal variables: imputação de valores faltantes e codificação one-hot\n",
    "nominal_preprocessor = Pipeline(steps=[\n",
    "    (\"missing\", SimpleImputer(strategy=\"most_frequent\")),  # Preenchimento com o valor mais frequente\n",
    "    (\"encoding\", OneHotEncoder(sparse_output=False))  # Codificação One-Hot\n",
    "])\n",
    "\n",
    "# Ordinal variables: imputação de valores faltantes e codificação ordinal\n",
    "ordinal_preprocessor = Pipeline(steps=[\n",
    "    (\"missing\", SimpleImputer(strategy=\"median\")),  # Preenchimento com a mediana\n",
    "    (\"encoding\", OrdinalEncoder())  # Codificação ordinal\n",
    "])\n",
    "\n",
    "# Continuous variables: imputação de valores faltantes e normalização\n",
    "continuous_preprocessor = Pipeline(steps=[\n",
    "    (\"missing\", SimpleImputer(strategy=\"mean\")),  # Preenchimento com a média\n",
    "    (\"normalization\", StandardScaler())  # Normalização\n",
    "])\n",
    "\n",
    "# Discrete variables: imputação de valores faltantes e normalização\n",
    "discrete_preprocessor = Pipeline(steps=[\n",
    "    (\"missing\", KNNImputer()),  # Preenchimento baseado em K vizinhos mais próximos\n",
    "    (\"normalization\", StandardScaler())  # Normalização\n",
    "])"
   ]
  },
  {
   "cell_type": "markdown",
   "metadata": {},
   "source": [
    "Esse código acima organiza pipelines para pré-processar variáveis diferentes (nominais, ordinais, contínuas e discretas). Cada tipo de variável tem necessidades específicas, como tratamento de valores faltantes ou codificação."
   ]
  },
  {
   "cell_type": "code",
   "execution_count": 41,
   "metadata": {},
   "outputs": [],
   "source": [
    "# Criação do ColumnTransformer para processar cada tipo de variável\n",
    "preprocessor = ColumnTransformer([\n",
    "    (\"nominal\", nominal_preprocessor, nominal_variables),   \n",
    "    (\"ordinal\", ordinal_preprocessor, ordinal_variables),   \n",
    "    (\"continuous\", continuous_preprocessor, continuous_variables),  \n",
    "    (\"discrete\", discrete_preprocessor, discrete_variables), \n",
    "])"
   ]
  },
  {
   "cell_type": "markdown",
   "metadata": {},
   "source": [
    "As variáveis nominais, contínuas, ordinais e discretas são extraídas do dicionário de dados com base no subtipo. Isso assegura que cada tipo de dado seja tratado com o pipeline apropriado."
   ]
  },
  {
   "cell_type": "code",
   "execution_count": 42,
   "metadata": {},
   "outputs": [
    {
     "data": {
      "text/html": [
       "<style>#sk-container-id-2 {color: black;background-color: white;}#sk-container-id-2 pre{padding: 0;}#sk-container-id-2 div.sk-toggleable {background-color: white;}#sk-container-id-2 label.sk-toggleable__label {cursor: pointer;display: block;width: 100%;margin-bottom: 0;padding: 0.3em;box-sizing: border-box;text-align: center;}#sk-container-id-2 label.sk-toggleable__label-arrow:before {content: \"▸\";float: left;margin-right: 0.25em;color: #696969;}#sk-container-id-2 label.sk-toggleable__label-arrow:hover:before {color: black;}#sk-container-id-2 div.sk-estimator:hover label.sk-toggleable__label-arrow:before {color: black;}#sk-container-id-2 div.sk-toggleable__content {max-height: 0;max-width: 0;overflow: hidden;text-align: left;background-color: #f0f8ff;}#sk-container-id-2 div.sk-toggleable__content pre {margin: 0.2em;color: black;border-radius: 0.25em;background-color: #f0f8ff;}#sk-container-id-2 input.sk-toggleable__control:checked~div.sk-toggleable__content {max-height: 200px;max-width: 100%;overflow: auto;}#sk-container-id-2 input.sk-toggleable__control:checked~label.sk-toggleable__label-arrow:before {content: \"▾\";}#sk-container-id-2 div.sk-estimator input.sk-toggleable__control:checked~label.sk-toggleable__label {background-color: #d4ebff;}#sk-container-id-2 div.sk-label input.sk-toggleable__control:checked~label.sk-toggleable__label {background-color: #d4ebff;}#sk-container-id-2 input.sk-hidden--visually {border: 0;clip: rect(1px 1px 1px 1px);clip: rect(1px, 1px, 1px, 1px);height: 1px;margin: -1px;overflow: hidden;padding: 0;position: absolute;width: 1px;}#sk-container-id-2 div.sk-estimator {font-family: monospace;background-color: #f0f8ff;border: 1px dotted black;border-radius: 0.25em;box-sizing: border-box;margin-bottom: 0.5em;}#sk-container-id-2 div.sk-estimator:hover {background-color: #d4ebff;}#sk-container-id-2 div.sk-parallel-item::after {content: \"\";width: 100%;border-bottom: 1px solid gray;flex-grow: 1;}#sk-container-id-2 div.sk-label:hover label.sk-toggleable__label {background-color: #d4ebff;}#sk-container-id-2 div.sk-serial::before {content: \"\";position: absolute;border-left: 1px solid gray;box-sizing: border-box;top: 0;bottom: 0;left: 50%;z-index: 0;}#sk-container-id-2 div.sk-serial {display: flex;flex-direction: column;align-items: center;background-color: white;padding-right: 0.2em;padding-left: 0.2em;position: relative;}#sk-container-id-2 div.sk-item {position: relative;z-index: 1;}#sk-container-id-2 div.sk-parallel {display: flex;align-items: stretch;justify-content: center;background-color: white;position: relative;}#sk-container-id-2 div.sk-item::before, #sk-container-id-2 div.sk-parallel-item::before {content: \"\";position: absolute;border-left: 1px solid gray;box-sizing: border-box;top: 0;bottom: 0;left: 50%;z-index: -1;}#sk-container-id-2 div.sk-parallel-item {display: flex;flex-direction: column;z-index: 1;position: relative;background-color: white;}#sk-container-id-2 div.sk-parallel-item:first-child::after {align-self: flex-end;width: 50%;}#sk-container-id-2 div.sk-parallel-item:last-child::after {align-self: flex-start;width: 50%;}#sk-container-id-2 div.sk-parallel-item:only-child::after {width: 0;}#sk-container-id-2 div.sk-dashed-wrapped {border: 1px dashed gray;margin: 0 0.4em 0.5em 0.4em;box-sizing: border-box;padding-bottom: 0.4em;background-color: white;}#sk-container-id-2 div.sk-label label {font-family: monospace;font-weight: bold;display: inline-block;line-height: 1.2em;}#sk-container-id-2 div.sk-label-container {text-align: center;}#sk-container-id-2 div.sk-container {/* jupyter's `normalize.less` sets `[hidden] { display: none; }` but bootstrap.min.css set `[hidden] { display: none !important; }` so we also need the `!important` here to be able to override the default hidden behavior on the sphinx rendered scikit-learn.org. See: https://github.com/scikit-learn/scikit-learn/issues/21755 */display: inline-block !important;position: relative;}#sk-container-id-2 div.sk-text-repr-fallback {display: none;}</style><div id=\"sk-container-id-2\" class=\"sk-top-container\"><div class=\"sk-text-repr-fallback\"><pre>ColumnTransformer(transformers=[(&#x27;nominal&#x27;,\n",
       "                                 Pipeline(steps=[(&#x27;missing&#x27;,\n",
       "                                                  SimpleImputer(strategy=&#x27;most_frequent&#x27;)),\n",
       "                                                 (&#x27;encoding&#x27;,\n",
       "                                                  OneHotEncoder(sparse_output=False))]),\n",
       "                                 [&#x27;vinícola&#x27;, &#x27;vinho&#x27;, &#x27;região&#x27;, &#x27;tipo&#x27;]),\n",
       "                                (&#x27;ordinal&#x27;,\n",
       "                                 Pipeline(steps=[(&#x27;missing&#x27;,\n",
       "                                                  SimpleImputer(strategy=&#x27;median&#x27;)),\n",
       "                                                 (&#x27;encoding&#x27;,\n",
       "                                                  OrdinalEncoder())]),\n",
       "                                 [&#x27;corpo&#x27;, &#x27;acidez&#x27;]),\n",
       "                                (&#x27;continuous&#x27;,\n",
       "                                 Pipeline(steps=[(&#x27;missing&#x27;, SimpleImputer()),\n",
       "                                                 (&#x27;normalization&#x27;,\n",
       "                                                  StandardScaler())]),\n",
       "                                 [&#x27;avaliação&#x27;]),\n",
       "                                (&#x27;discrete&#x27;,\n",
       "                                 Pipeline(steps=[(&#x27;missing&#x27;, KNNImputer()),\n",
       "                                                 (&#x27;normalization&#x27;,\n",
       "                                                  StandardScaler())]),\n",
       "                                 [&#x27;ano&#x27;, &#x27;num_avaliações&#x27;])])</pre><b>In a Jupyter environment, please rerun this cell to show the HTML representation or trust the notebook. <br />On GitHub, the HTML representation is unable to render, please try loading this page with nbviewer.org.</b></div><div class=\"sk-container\" hidden><div class=\"sk-item sk-dashed-wrapped\"><div class=\"sk-label-container\"><div class=\"sk-label sk-toggleable\"><input class=\"sk-toggleable__control sk-hidden--visually\" id=\"sk-estimator-id-14\" type=\"checkbox\" ><label for=\"sk-estimator-id-14\" class=\"sk-toggleable__label sk-toggleable__label-arrow\">ColumnTransformer</label><div class=\"sk-toggleable__content\"><pre>ColumnTransformer(transformers=[(&#x27;nominal&#x27;,\n",
       "                                 Pipeline(steps=[(&#x27;missing&#x27;,\n",
       "                                                  SimpleImputer(strategy=&#x27;most_frequent&#x27;)),\n",
       "                                                 (&#x27;encoding&#x27;,\n",
       "                                                  OneHotEncoder(sparse_output=False))]),\n",
       "                                 [&#x27;vinícola&#x27;, &#x27;vinho&#x27;, &#x27;região&#x27;, &#x27;tipo&#x27;]),\n",
       "                                (&#x27;ordinal&#x27;,\n",
       "                                 Pipeline(steps=[(&#x27;missing&#x27;,\n",
       "                                                  SimpleImputer(strategy=&#x27;median&#x27;)),\n",
       "                                                 (&#x27;encoding&#x27;,\n",
       "                                                  OrdinalEncoder())]),\n",
       "                                 [&#x27;corpo&#x27;, &#x27;acidez&#x27;]),\n",
       "                                (&#x27;continuous&#x27;,\n",
       "                                 Pipeline(steps=[(&#x27;missing&#x27;, SimpleImputer()),\n",
       "                                                 (&#x27;normalization&#x27;,\n",
       "                                                  StandardScaler())]),\n",
       "                                 [&#x27;avaliação&#x27;]),\n",
       "                                (&#x27;discrete&#x27;,\n",
       "                                 Pipeline(steps=[(&#x27;missing&#x27;, KNNImputer()),\n",
       "                                                 (&#x27;normalization&#x27;,\n",
       "                                                  StandardScaler())]),\n",
       "                                 [&#x27;ano&#x27;, &#x27;num_avaliações&#x27;])])</pre></div></div></div><div class=\"sk-parallel\"><div class=\"sk-parallel-item\"><div class=\"sk-item\"><div class=\"sk-label-container\"><div class=\"sk-label sk-toggleable\"><input class=\"sk-toggleable__control sk-hidden--visually\" id=\"sk-estimator-id-15\" type=\"checkbox\" ><label for=\"sk-estimator-id-15\" class=\"sk-toggleable__label sk-toggleable__label-arrow\">nominal</label><div class=\"sk-toggleable__content\"><pre>[&#x27;vinícola&#x27;, &#x27;vinho&#x27;, &#x27;região&#x27;, &#x27;tipo&#x27;]</pre></div></div></div><div class=\"sk-serial\"><div class=\"sk-item\"><div class=\"sk-serial\"><div class=\"sk-item\"><div class=\"sk-estimator sk-toggleable\"><input class=\"sk-toggleable__control sk-hidden--visually\" id=\"sk-estimator-id-16\" type=\"checkbox\" ><label for=\"sk-estimator-id-16\" class=\"sk-toggleable__label sk-toggleable__label-arrow\">SimpleImputer</label><div class=\"sk-toggleable__content\"><pre>SimpleImputer(strategy=&#x27;most_frequent&#x27;)</pre></div></div></div><div class=\"sk-item\"><div class=\"sk-estimator sk-toggleable\"><input class=\"sk-toggleable__control sk-hidden--visually\" id=\"sk-estimator-id-17\" type=\"checkbox\" ><label for=\"sk-estimator-id-17\" class=\"sk-toggleable__label sk-toggleable__label-arrow\">OneHotEncoder</label><div class=\"sk-toggleable__content\"><pre>OneHotEncoder(sparse_output=False)</pre></div></div></div></div></div></div></div></div><div class=\"sk-parallel-item\"><div class=\"sk-item\"><div class=\"sk-label-container\"><div class=\"sk-label sk-toggleable\"><input class=\"sk-toggleable__control sk-hidden--visually\" id=\"sk-estimator-id-18\" type=\"checkbox\" ><label for=\"sk-estimator-id-18\" class=\"sk-toggleable__label sk-toggleable__label-arrow\">ordinal</label><div class=\"sk-toggleable__content\"><pre>[&#x27;corpo&#x27;, &#x27;acidez&#x27;]</pre></div></div></div><div class=\"sk-serial\"><div class=\"sk-item\"><div class=\"sk-serial\"><div class=\"sk-item\"><div class=\"sk-estimator sk-toggleable\"><input class=\"sk-toggleable__control sk-hidden--visually\" id=\"sk-estimator-id-19\" type=\"checkbox\" ><label for=\"sk-estimator-id-19\" class=\"sk-toggleable__label sk-toggleable__label-arrow\">SimpleImputer</label><div class=\"sk-toggleable__content\"><pre>SimpleImputer(strategy=&#x27;median&#x27;)</pre></div></div></div><div class=\"sk-item\"><div class=\"sk-estimator sk-toggleable\"><input class=\"sk-toggleable__control sk-hidden--visually\" id=\"sk-estimator-id-20\" type=\"checkbox\" ><label for=\"sk-estimator-id-20\" class=\"sk-toggleable__label sk-toggleable__label-arrow\">OrdinalEncoder</label><div class=\"sk-toggleable__content\"><pre>OrdinalEncoder()</pre></div></div></div></div></div></div></div></div><div class=\"sk-parallel-item\"><div class=\"sk-item\"><div class=\"sk-label-container\"><div class=\"sk-label sk-toggleable\"><input class=\"sk-toggleable__control sk-hidden--visually\" id=\"sk-estimator-id-21\" type=\"checkbox\" ><label for=\"sk-estimator-id-21\" class=\"sk-toggleable__label sk-toggleable__label-arrow\">continuous</label><div class=\"sk-toggleable__content\"><pre>[&#x27;avaliação&#x27;]</pre></div></div></div><div class=\"sk-serial\"><div class=\"sk-item\"><div class=\"sk-serial\"><div class=\"sk-item\"><div class=\"sk-estimator sk-toggleable\"><input class=\"sk-toggleable__control sk-hidden--visually\" id=\"sk-estimator-id-22\" type=\"checkbox\" ><label for=\"sk-estimator-id-22\" class=\"sk-toggleable__label sk-toggleable__label-arrow\">SimpleImputer</label><div class=\"sk-toggleable__content\"><pre>SimpleImputer()</pre></div></div></div><div class=\"sk-item\"><div class=\"sk-estimator sk-toggleable\"><input class=\"sk-toggleable__control sk-hidden--visually\" id=\"sk-estimator-id-23\" type=\"checkbox\" ><label for=\"sk-estimator-id-23\" class=\"sk-toggleable__label sk-toggleable__label-arrow\">StandardScaler</label><div class=\"sk-toggleable__content\"><pre>StandardScaler()</pre></div></div></div></div></div></div></div></div><div class=\"sk-parallel-item\"><div class=\"sk-item\"><div class=\"sk-label-container\"><div class=\"sk-label sk-toggleable\"><input class=\"sk-toggleable__control sk-hidden--visually\" id=\"sk-estimator-id-24\" type=\"checkbox\" ><label for=\"sk-estimator-id-24\" class=\"sk-toggleable__label sk-toggleable__label-arrow\">discrete</label><div class=\"sk-toggleable__content\"><pre>[&#x27;ano&#x27;, &#x27;num_avaliações&#x27;]</pre></div></div></div><div class=\"sk-serial\"><div class=\"sk-item\"><div class=\"sk-serial\"><div class=\"sk-item\"><div class=\"sk-estimator sk-toggleable\"><input class=\"sk-toggleable__control sk-hidden--visually\" id=\"sk-estimator-id-25\" type=\"checkbox\" ><label for=\"sk-estimator-id-25\" class=\"sk-toggleable__label sk-toggleable__label-arrow\">KNNImputer</label><div class=\"sk-toggleable__content\"><pre>KNNImputer()</pre></div></div></div><div class=\"sk-item\"><div class=\"sk-estimator sk-toggleable\"><input class=\"sk-toggleable__control sk-hidden--visually\" id=\"sk-estimator-id-26\" type=\"checkbox\" ><label for=\"sk-estimator-id-26\" class=\"sk-toggleable__label sk-toggleable__label-arrow\">StandardScaler</label><div class=\"sk-toggleable__content\"><pre>StandardScaler()</pre></div></div></div></div></div></div></div></div></div></div></div></div>"
      ],
      "text/plain": [
       "ColumnTransformer(transformers=[('nominal',\n",
       "                                 Pipeline(steps=[('missing',\n",
       "                                                  SimpleImputer(strategy='most_frequent')),\n",
       "                                                 ('encoding',\n",
       "                                                  OneHotEncoder(sparse_output=False))]),\n",
       "                                 ['vinícola', 'vinho', 'região', 'tipo']),\n",
       "                                ('ordinal',\n",
       "                                 Pipeline(steps=[('missing',\n",
       "                                                  SimpleImputer(strategy='median')),\n",
       "                                                 ('encoding',\n",
       "                                                  OrdinalEncoder())]),\n",
       "                                 ['corpo', 'acidez']),\n",
       "                                ('continuous',\n",
       "                                 Pipeline(steps=[('missing', SimpleImputer()),\n",
       "                                                 ('normalization',\n",
       "                                                  StandardScaler())]),\n",
       "                                 ['avaliação']),\n",
       "                                ('discrete',\n",
       "                                 Pipeline(steps=[('missing', KNNImputer()),\n",
       "                                                 ('normalization',\n",
       "                                                  StandardScaler())]),\n",
       "                                 ['ano', 'num_avaliações'])])"
      ]
     },
     "execution_count": 42,
     "metadata": {},
     "output_type": "execute_result"
    }
   ],
   "source": [
    "preprocessor"
   ]
  },
  {
   "cell_type": "markdown",
   "metadata": {},
   "source": [
    "#### **Aplicando o preprocessor aos dados**"
   ]
  },
  {
   "cell_type": "code",
   "execution_count": 43,
   "metadata": {},
   "outputs": [],
   "source": [
    "X_preprocessed = preprocessor.fit_transform(X)"
   ]
  },
  {
   "cell_type": "code",
   "execution_count": 44,
   "metadata": {},
   "outputs": [
    {
     "name": "stdout",
     "output_type": "stream",
     "text": [
      "[[ 0.     0.     0.    ...  3.394  0.167 -0.375]\n",
      " [ 0.     0.     0.    ...  3.394  0.62  -0.395]\n",
      " [ 0.     0.     0.    ...  2.714 -0.196  0.886]\n",
      " ...\n",
      " [ 0.     0.     0.    ... -1.368  0.439 -0.135]\n",
      " [ 0.     0.     0.    ... -1.368 -0.559 -0.138]\n",
      " [ 0.     0.     0.    ... -1.368  0.53  -0.111]]\n"
     ]
    }
   ],
   "source": [
    "np.set_printoptions(precision=3, suppress=True)\n",
    "\n",
    "print(X_preprocessed)"
   ]
  },
  {
   "cell_type": "code",
   "execution_count": null,
   "metadata": {},
   "outputs": [],
   "source": []
  }
 ],
 "metadata": {
  "kernelspec": {
   "display_name": "base",
   "language": "python",
   "name": "python3"
  },
  "language_info": {
   "codemirror_mode": {
    "name": "ipython",
    "version": 3
   },
   "file_extension": ".py",
   "mimetype": "text/x-python",
   "name": "python",
   "nbconvert_exporter": "python",
   "pygments_lexer": "ipython3",
   "version": "3.11.7"
  }
 },
 "nbformat": 4,
 "nbformat_minor": 2
}
