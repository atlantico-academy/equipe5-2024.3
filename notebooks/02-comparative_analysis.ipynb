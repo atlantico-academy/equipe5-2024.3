{
 "cells": [
  {
   "cell_type": "markdown",
   "metadata": {},
   "source": [
    "# Comparação de Modelos de ML"
   ]
  },
  {
   "cell_type": "markdown",
   "metadata": {},
   "source": [
    "* Bibliotecas:"
   ]
  },
  {
   "cell_type": "code",
   "execution_count": 4,
   "metadata": {},
   "outputs": [],
   "source": [
    "import pandas as pd\n",
    "import numpy as np\n",
    "import seaborn as sns\n",
    "import matplotlib.pyplot as plt\n",
    "from sklearn.impute import SimpleImputer, KNNImputer\n",
    "from sklearn.pipeline import Pipeline\n",
    "from sklearn.compose import ColumnTransformer\n",
    "from sklearn.preprocessing import OneHotEncoder, OrdinalEncoder, StandardScaler\n",
    "from sklearn.linear_model import LinearRegression\n",
    "from sklearn.model_selection import train_test_split\n",
    "from sklearn.metrics import mean_absolute_error, mean_squared_error, r2_score\n",
    "from sklearn.model_selection import cross_val_score\n",
    "import joblib\n",
    "from pathlib import Path"
   ]
  },
  {
   "cell_type": "markdown",
   "metadata": {},
   "source": [
    "* Leitura dos dados:"
   ]
  },
  {
   "cell_type": "code",
   "execution_count": 59,
   "metadata": {},
   "outputs": [],
   "source": [
    "df= pd.read_csv(\"../data/raw/wines_atualizado.csv\")"
   ]
  },
  {
   "cell_type": "code",
   "execution_count": 60,
   "metadata": {},
   "outputs": [],
   "source": [
    "df_path = Path('../data/external/dictionary_atualizado.csv')\n",
    "# data_path = Path('dictionary.csv')\n",
    "df_dict = pd.read_csv(df_path, sep=',') "
   ]
  },
  {
   "cell_type": "code",
   "execution_count": 61,
   "metadata": {},
   "outputs": [
    {
     "data": {
      "text/html": [
       "<div>\n",
       "<style scoped>\n",
       "    .dataframe tbody tr th:only-of-type {\n",
       "        vertical-align: middle;\n",
       "    }\n",
       "\n",
       "    .dataframe tbody tr th {\n",
       "        vertical-align: top;\n",
       "    }\n",
       "\n",
       "    .dataframe thead th {\n",
       "        text-align: right;\n",
       "    }\n",
       "</style>\n",
       "<table border=\"1\" class=\"dataframe\">\n",
       "  <thead>\n",
       "    <tr style=\"text-align: right;\">\n",
       "      <th></th>\n",
       "      <th>vinícola</th>\n",
       "      <th>vinho</th>\n",
       "      <th>ano</th>\n",
       "      <th>avaliação</th>\n",
       "      <th>num_avaliações</th>\n",
       "      <th>região</th>\n",
       "      <th>preço</th>\n",
       "      <th>tipo</th>\n",
       "      <th>corpo</th>\n",
       "      <th>acidez</th>\n",
       "      <th>Categoria</th>\n",
       "    </tr>\n",
       "  </thead>\n",
       "  <tbody>\n",
       "    <tr>\n",
       "      <th>0</th>\n",
       "      <td>Teso La Monja</td>\n",
       "      <td>Tinto</td>\n",
       "      <td>2013.0</td>\n",
       "      <td>4.9</td>\n",
       "      <td>58</td>\n",
       "      <td>Toro</td>\n",
       "      <td>995.00</td>\n",
       "      <td>Toro Red</td>\n",
       "      <td>5</td>\n",
       "      <td>3</td>\n",
       "      <td>Vinhos Tintos</td>\n",
       "    </tr>\n",
       "    <tr>\n",
       "      <th>1</th>\n",
       "      <td>Artadi</td>\n",
       "      <td>Vina El Pison</td>\n",
       "      <td>2018.0</td>\n",
       "      <td>4.9</td>\n",
       "      <td>31</td>\n",
       "      <td>Vino de Espana</td>\n",
       "      <td>313.50</td>\n",
       "      <td>Tempranillo</td>\n",
       "      <td>4</td>\n",
       "      <td>2</td>\n",
       "      <td>Vinhos Tintos</td>\n",
       "    </tr>\n",
       "    <tr>\n",
       "      <th>2</th>\n",
       "      <td>Vega Sicilia</td>\n",
       "      <td>Unico</td>\n",
       "      <td>2009.0</td>\n",
       "      <td>4.8</td>\n",
       "      <td>1793</td>\n",
       "      <td>Ribera del Duero</td>\n",
       "      <td>324.95</td>\n",
       "      <td>Ribera Del Duero Red</td>\n",
       "      <td>5</td>\n",
       "      <td>3</td>\n",
       "      <td>Vinhos Tintos</td>\n",
       "    </tr>\n",
       "    <tr>\n",
       "      <th>3</th>\n",
       "      <td>Vega Sicilia</td>\n",
       "      <td>Unico</td>\n",
       "      <td>1999.0</td>\n",
       "      <td>4.8</td>\n",
       "      <td>1705</td>\n",
       "      <td>Ribera del Duero</td>\n",
       "      <td>692.96</td>\n",
       "      <td>Ribera Del Duero Red</td>\n",
       "      <td>5</td>\n",
       "      <td>3</td>\n",
       "      <td>Vinhos Tintos</td>\n",
       "    </tr>\n",
       "    <tr>\n",
       "      <th>4</th>\n",
       "      <td>Vega Sicilia</td>\n",
       "      <td>Unico</td>\n",
       "      <td>1996.0</td>\n",
       "      <td>4.8</td>\n",
       "      <td>1309</td>\n",
       "      <td>Ribera del Duero</td>\n",
       "      <td>778.06</td>\n",
       "      <td>Ribera Del Duero Red</td>\n",
       "      <td>5</td>\n",
       "      <td>3</td>\n",
       "      <td>Vinhos Tintos</td>\n",
       "    </tr>\n",
       "  </tbody>\n",
       "</table>\n",
       "</div>"
      ],
      "text/plain": [
       "        vinícola          vinho     ano  avaliação  num_avaliações  \\\n",
       "0  Teso La Monja          Tinto  2013.0        4.9              58   \n",
       "1         Artadi  Vina El Pison  2018.0        4.9              31   \n",
       "2   Vega Sicilia          Unico  2009.0        4.8            1793   \n",
       "3   Vega Sicilia          Unico  1999.0        4.8            1705   \n",
       "4   Vega Sicilia          Unico  1996.0        4.8            1309   \n",
       "\n",
       "             região   preço                  tipo  corpo  acidez  \\\n",
       "0              Toro  995.00              Toro Red      5       3   \n",
       "1    Vino de Espana  313.50           Tempranillo      4       2   \n",
       "2  Ribera del Duero  324.95  Ribera Del Duero Red      5       3   \n",
       "3  Ribera del Duero  692.96  Ribera Del Duero Red      5       3   \n",
       "4  Ribera del Duero  778.06  Ribera Del Duero Red      5       3   \n",
       "\n",
       "       Categoria  \n",
       "0  Vinhos Tintos  \n",
       "1  Vinhos Tintos  \n",
       "2  Vinhos Tintos  \n",
       "3  Vinhos Tintos  \n",
       "4  Vinhos Tintos  "
      ]
     },
     "execution_count": 61,
     "metadata": {},
     "output_type": "execute_result"
    }
   ],
   "source": [
    "df.head()"
   ]
  },
  {
   "cell_type": "code",
   "execution_count": 62,
   "metadata": {},
   "outputs": [
    {
     "data": {
      "text/html": [
       "<div>\n",
       "<style scoped>\n",
       "    .dataframe tbody tr th:only-of-type {\n",
       "        vertical-align: middle;\n",
       "    }\n",
       "\n",
       "    .dataframe tbody tr th {\n",
       "        vertical-align: top;\n",
       "    }\n",
       "\n",
       "    .dataframe thead th {\n",
       "        text-align: right;\n",
       "    }\n",
       "</style>\n",
       "<table border=\"1\" class=\"dataframe\">\n",
       "  <thead>\n",
       "    <tr style=\"text-align: right;\">\n",
       "      <th></th>\n",
       "      <th>variavel</th>\n",
       "      <th>descricao</th>\n",
       "      <th>tipo</th>\n",
       "      <th>subtipo</th>\n",
       "    </tr>\n",
       "  </thead>\n",
       "  <tbody>\n",
       "    <tr>\n",
       "      <th>0</th>\n",
       "      <td>vinícola</td>\n",
       "      <td>Nome da vinícola</td>\n",
       "      <td>qualitativa</td>\n",
       "      <td>nominal</td>\n",
       "    </tr>\n",
       "    <tr>\n",
       "      <th>1</th>\n",
       "      <td>vinho</td>\n",
       "      <td>Nome do vinho</td>\n",
       "      <td>qualitativa</td>\n",
       "      <td>nominal</td>\n",
       "    </tr>\n",
       "    <tr>\n",
       "      <th>2</th>\n",
       "      <td>ano</td>\n",
       "      <td>Ano em que as uvas foram colhidas</td>\n",
       "      <td>quantitativa</td>\n",
       "      <td>discreta</td>\n",
       "    </tr>\n",
       "    <tr>\n",
       "      <th>3</th>\n",
       "      <td>avaliação</td>\n",
       "      <td>Avaliação média dada ao vinho pelos usuários [...</td>\n",
       "      <td>quantitativa</td>\n",
       "      <td>contínua</td>\n",
       "    </tr>\n",
       "    <tr>\n",
       "      <th>4</th>\n",
       "      <td>num_avaliações</td>\n",
       "      <td>Número de usuários que avaliaram o vinho</td>\n",
       "      <td>quantitativa</td>\n",
       "      <td>discreta</td>\n",
       "    </tr>\n",
       "    <tr>\n",
       "      <th>5</th>\n",
       "      <td>região</td>\n",
       "      <td>Região do vinho</td>\n",
       "      <td>qualitativa</td>\n",
       "      <td>nominal</td>\n",
       "    </tr>\n",
       "    <tr>\n",
       "      <th>6</th>\n",
       "      <td>preço</td>\n",
       "      <td>Preço em euros [€]</td>\n",
       "      <td>quantitativa</td>\n",
       "      <td>contínua</td>\n",
       "    </tr>\n",
       "    <tr>\n",
       "      <th>7</th>\n",
       "      <td>tipo</td>\n",
       "      <td>Variedade de vinho</td>\n",
       "      <td>qualitativa</td>\n",
       "      <td>nominal</td>\n",
       "    </tr>\n",
       "    <tr>\n",
       "      <th>8</th>\n",
       "      <td>corpo</td>\n",
       "      <td>Pontuação de corpo, definida como a riqueza e ...</td>\n",
       "      <td>qualitativa</td>\n",
       "      <td>ordinal</td>\n",
       "    </tr>\n",
       "    <tr>\n",
       "      <th>9</th>\n",
       "      <td>acidez</td>\n",
       "      <td>Pontuação de acidez, definida como o frescor e...</td>\n",
       "      <td>qualitativa</td>\n",
       "      <td>ordinal</td>\n",
       "    </tr>\n",
       "    <tr>\n",
       "      <th>10</th>\n",
       "      <td>Categoria</td>\n",
       "      <td>Categoria principal do vinho, como Tintos, Bra...</td>\n",
       "      <td>qualitativa</td>\n",
       "      <td>nominal</td>\n",
       "    </tr>\n",
       "  </tbody>\n",
       "</table>\n",
       "</div>"
      ],
      "text/plain": [
       "          variavel                                          descricao  \\\n",
       "0         vinícola                                   Nome da vinícola   \n",
       "1            vinho                                      Nome do vinho   \n",
       "2              ano                  Ano em que as uvas foram colhidas   \n",
       "3        avaliação  Avaliação média dada ao vinho pelos usuários [...   \n",
       "4   num_avaliações           Número de usuários que avaliaram o vinho   \n",
       "5           região                                    Região do vinho   \n",
       "6            preço                                 Preço em euros [€]   \n",
       "7             tipo                                 Variedade de vinho   \n",
       "8            corpo  Pontuação de corpo, definida como a riqueza e ...   \n",
       "9           acidez  Pontuação de acidez, definida como o frescor e...   \n",
       "10       Categoria  Categoria principal do vinho, como Tintos, Bra...   \n",
       "\n",
       "            tipo   subtipo  \n",
       "0    qualitativa   nominal  \n",
       "1    qualitativa   nominal  \n",
       "2   quantitativa  discreta  \n",
       "3   quantitativa  contínua  \n",
       "4   quantitativa  discreta  \n",
       "5    qualitativa   nominal  \n",
       "6   quantitativa  contínua  \n",
       "7    qualitativa   nominal  \n",
       "8    qualitativa   ordinal  \n",
       "9    qualitativa   ordinal  \n",
       "10   qualitativa   nominal  "
      ]
     },
     "execution_count": 62,
     "metadata": {},
     "output_type": "execute_result"
    }
   ],
   "source": [
    "df_dict.head(20)"
   ]
  },
  {
   "cell_type": "markdown",
   "metadata": {},
   "source": [
    "* Verificando estrutura:"
   ]
  },
  {
   "cell_type": "code",
   "execution_count": 63,
   "metadata": {},
   "outputs": [
    {
     "name": "stdout",
     "output_type": "stream",
     "text": [
      "<class 'pandas.core.frame.DataFrame'>\n",
      "RangeIndex: 2048 entries, 0 to 2047\n",
      "Data columns (total 11 columns):\n",
      " #   Column          Non-Null Count  Dtype  \n",
      "---  ------          --------------  -----  \n",
      " 0   vinícola        2048 non-null   object \n",
      " 1   vinho           2048 non-null   object \n",
      " 2   ano             1976 non-null   float64\n",
      " 3   avaliação       2048 non-null   float64\n",
      " 4   num_avaliações  2048 non-null   int64  \n",
      " 5   região          2048 non-null   object \n",
      " 6   preço           2048 non-null   float64\n",
      " 7   tipo            1942 non-null   object \n",
      " 8   corpo           2048 non-null   int64  \n",
      " 9   acidez          2048 non-null   int64  \n",
      " 10  Categoria       2048 non-null   object \n",
      "dtypes: float64(3), int64(3), object(5)\n",
      "memory usage: 176.1+ KB\n"
     ]
    }
   ],
   "source": [
    "df.info()"
   ]
  },
  {
   "cell_type": "markdown",
   "metadata": {},
   "source": [
    "Valores numéricos:"
   ]
  },
  {
   "cell_type": "code",
   "execution_count": 64,
   "metadata": {},
   "outputs": [
    {
     "data": {
      "text/html": [
       "<div>\n",
       "<style scoped>\n",
       "    .dataframe tbody tr th:only-of-type {\n",
       "        vertical-align: middle;\n",
       "    }\n",
       "\n",
       "    .dataframe tbody tr th {\n",
       "        vertical-align: top;\n",
       "    }\n",
       "\n",
       "    .dataframe thead th {\n",
       "        text-align: right;\n",
       "    }\n",
       "</style>\n",
       "<table border=\"1\" class=\"dataframe\">\n",
       "  <thead>\n",
       "    <tr style=\"text-align: right;\">\n",
       "      <th></th>\n",
       "      <th>count</th>\n",
       "      <th>mean</th>\n",
       "      <th>std</th>\n",
       "      <th>min</th>\n",
       "      <th>25%</th>\n",
       "      <th>50%</th>\n",
       "      <th>75%</th>\n",
       "      <th>max</th>\n",
       "    </tr>\n",
       "  </thead>\n",
       "  <tbody>\n",
       "    <tr>\n",
       "      <th>ano</th>\n",
       "      <td>1976.0</td>\n",
       "      <td>2011.150810</td>\n",
       "      <td>11.186906</td>\n",
       "      <td>1910.00</td>\n",
       "      <td>2010.000</td>\n",
       "      <td>2015.000</td>\n",
       "      <td>2017.0</td>\n",
       "      <td>2021.00</td>\n",
       "    </tr>\n",
       "    <tr>\n",
       "      <th>avaliação</th>\n",
       "      <td>2048.0</td>\n",
       "      <td>4.401123</td>\n",
       "      <td>0.147023</td>\n",
       "      <td>4.20</td>\n",
       "      <td>4.300</td>\n",
       "      <td>4.400</td>\n",
       "      <td>4.5</td>\n",
       "      <td>4.90</td>\n",
       "    </tr>\n",
       "    <tr>\n",
       "      <th>num_avaliações</th>\n",
       "      <td>2048.0</td>\n",
       "      <td>573.994629</td>\n",
       "      <td>1376.153171</td>\n",
       "      <td>25.00</td>\n",
       "      <td>58.000</td>\n",
       "      <td>141.000</td>\n",
       "      <td>485.5</td>\n",
       "      <td>32624.00</td>\n",
       "    </tr>\n",
       "    <tr>\n",
       "      <th>preço</th>\n",
       "      <td>2048.0</td>\n",
       "      <td>135.242197</td>\n",
       "      <td>272.178314</td>\n",
       "      <td>4.99</td>\n",
       "      <td>31.915</td>\n",
       "      <td>53.625</td>\n",
       "      <td>110.0</td>\n",
       "      <td>3119.08</td>\n",
       "    </tr>\n",
       "    <tr>\n",
       "      <th>corpo</th>\n",
       "      <td>2048.0</td>\n",
       "      <td>3.695312</td>\n",
       "      <td>1.566297</td>\n",
       "      <td>0.00</td>\n",
       "      <td>4.000</td>\n",
       "      <td>4.000</td>\n",
       "      <td>5.0</td>\n",
       "      <td>5.00</td>\n",
       "    </tr>\n",
       "    <tr>\n",
       "      <th>acidez</th>\n",
       "      <td>2048.0</td>\n",
       "      <td>2.534668</td>\n",
       "      <td>1.038003</td>\n",
       "      <td>0.00</td>\n",
       "      <td>3.000</td>\n",
       "      <td>3.000</td>\n",
       "      <td>3.0</td>\n",
       "      <td>3.00</td>\n",
       "    </tr>\n",
       "  </tbody>\n",
       "</table>\n",
       "</div>"
      ],
      "text/plain": [
       "                 count         mean          std      min       25%       50%  \\\n",
       "ano             1976.0  2011.150810    11.186906  1910.00  2010.000  2015.000   \n",
       "avaliação       2048.0     4.401123     0.147023     4.20     4.300     4.400   \n",
       "num_avaliações  2048.0   573.994629  1376.153171    25.00    58.000   141.000   \n",
       "preço           2048.0   135.242197   272.178314     4.99    31.915    53.625   \n",
       "corpo           2048.0     3.695312     1.566297     0.00     4.000     4.000   \n",
       "acidez          2048.0     2.534668     1.038003     0.00     3.000     3.000   \n",
       "\n",
       "                   75%       max  \n",
       "ano             2017.0   2021.00  \n",
       "avaliação          4.5      4.90  \n",
       "num_avaliações   485.5  32624.00  \n",
       "preço            110.0   3119.08  \n",
       "corpo              5.0      5.00  \n",
       "acidez             3.0      3.00  "
      ]
     },
     "execution_count": 64,
     "metadata": {},
     "output_type": "execute_result"
    }
   ],
   "source": [
    "df.describe().T"
   ]
  },
  {
   "cell_type": "markdown",
   "metadata": {},
   "source": [
    "Valores de string:"
   ]
  },
  {
   "cell_type": "code",
   "execution_count": 65,
   "metadata": {},
   "outputs": [
    {
     "data": {
      "text/html": [
       "<div>\n",
       "<style scoped>\n",
       "    .dataframe tbody tr th:only-of-type {\n",
       "        vertical-align: middle;\n",
       "    }\n",
       "\n",
       "    .dataframe tbody tr th {\n",
       "        vertical-align: top;\n",
       "    }\n",
       "\n",
       "    .dataframe thead th {\n",
       "        text-align: right;\n",
       "    }\n",
       "</style>\n",
       "<table border=\"1\" class=\"dataframe\">\n",
       "  <thead>\n",
       "    <tr style=\"text-align: right;\">\n",
       "      <th></th>\n",
       "      <th>count</th>\n",
       "      <th>unique</th>\n",
       "      <th>top</th>\n",
       "      <th>freq</th>\n",
       "    </tr>\n",
       "  </thead>\n",
       "  <tbody>\n",
       "    <tr>\n",
       "      <th>vinícola</th>\n",
       "      <td>2048</td>\n",
       "      <td>480</td>\n",
       "      <td>Vega Sicilia</td>\n",
       "      <td>97</td>\n",
       "    </tr>\n",
       "    <tr>\n",
       "      <th>vinho</th>\n",
       "      <td>2048</td>\n",
       "      <td>847</td>\n",
       "      <td>Tinto</td>\n",
       "      <td>56</td>\n",
       "    </tr>\n",
       "    <tr>\n",
       "      <th>região</th>\n",
       "      <td>2048</td>\n",
       "      <td>76</td>\n",
       "      <td>Ribera del Duero</td>\n",
       "      <td>541</td>\n",
       "    </tr>\n",
       "    <tr>\n",
       "      <th>tipo</th>\n",
       "      <td>1942</td>\n",
       "      <td>21</td>\n",
       "      <td>Ribera Del Duero Red</td>\n",
       "      <td>535</td>\n",
       "    </tr>\n",
       "    <tr>\n",
       "      <th>Categoria</th>\n",
       "      <td>2048</td>\n",
       "      <td>5</td>\n",
       "      <td>Vinhos Tintos</td>\n",
       "      <td>1698</td>\n",
       "    </tr>\n",
       "  </tbody>\n",
       "</table>\n",
       "</div>"
      ],
      "text/plain": [
       "          count unique                   top  freq\n",
       "vinícola   2048    480          Vega Sicilia    97\n",
       "vinho      2048    847                 Tinto    56\n",
       "região     2048     76      Ribera del Duero   541\n",
       "tipo       1942     21  Ribera Del Duero Red   535\n",
       "Categoria  2048      5         Vinhos Tintos  1698"
      ]
     },
     "execution_count": 65,
     "metadata": {},
     "output_type": "execute_result"
    }
   ],
   "source": [
    "df.describe(include='object').T"
   ]
  },
  {
   "cell_type": "markdown",
   "metadata": {},
   "source": [
    "## Tratamento e Transformação de dados:"
   ]
  },
  {
   "cell_type": "markdown",
   "metadata": {},
   "source": [
    "* **Verificando os Valores Faltantes**:"
   ]
  },
  {
   "cell_type": "code",
   "execution_count": 66,
   "metadata": {},
   "outputs": [
    {
     "name": "stdout",
     "output_type": "stream",
     "text": [
      "Há valores nulos na tabela.\n"
     ]
    }
   ],
   "source": [
    "valores_nulos = df.isnull().values.any()\n",
    "\n",
    "if valores_nulos:\n",
    "    print(\"Há valores nulos na tabela.\")\n",
    "else:\n",
    "    print(\"Não há valores nulos na tabela.\")"
   ]
  },
  {
   "cell_type": "code",
   "execution_count": 67,
   "metadata": {},
   "outputs": [
    {
     "name": "stdout",
     "output_type": "stream",
     "text": [
      "Verificando valores faltantes : \n",
      "\n",
      "vinícola            0\n",
      "vinho               0\n",
      "ano                72\n",
      "avaliação           0\n",
      "num_avaliações      0\n",
      "região              0\n",
      "preço               0\n",
      "tipo              106\n",
      "corpo               0\n",
      "acidez              0\n",
      "Categoria           0\n",
      "dtype: int64\n"
     ]
    }
   ],
   "source": [
    "print(f'Verificando valores faltantes : \\n\\n{df.isna().sum()}')"
   ]
  },
  {
   "cell_type": "markdown",
   "metadata": {},
   "source": [
    "* **Verificando os Valores discrepantes**:"
   ]
  },
  {
   "cell_type": "code",
   "execution_count": 68,
   "metadata": {},
   "outputs": [],
   "source": [
    "# Função para identificar outliers usando o IQR\n",
    "def detect_outliers_iqr(df, column):\n",
    "    Q1 = df[column].quantile(0.25)  # Primeiro quartil\n",
    "    Q3 = df[column].quantile(0.75)  # Terceiro quartil\n",
    "    IQR = Q3 - Q1                     # Intervalo Interquartil\n",
    "    \n",
    "    lower_bound = Q1 - 1.5 * IQR      # Limite inferior\n",
    "    upper_bound = Q3 + 1.5 * IQR      # Limite superior\n",
    "    \n",
    "    outliers = df[(df[column] < lower_bound) | (df[column] > upper_bound)]\n",
    "    return outliers"
   ]
  },
  {
   "cell_type": "code",
   "execution_count": 69,
   "metadata": {},
   "outputs": [
    {
     "name": "stdout",
     "output_type": "stream",
     "text": [
      "Outliers na coluna 'ano':\n",
      "                 vinícola                   vinho     ano  avaliação  \\\n",
      "3            Vega Sicilia                   Unico  1999.0        4.8   \n",
      "4            Vega Sicilia                   Unico  1996.0        4.8   \n",
      "5            Vega Sicilia                   Unico  1998.0        4.8   \n",
      "7            Vega Sicilia                   Unico  1995.0        4.8   \n",
      "13           Vega Sicilia                   Unico  1970.0        4.8   \n",
      "...                   ...                     ...     ...        ...   \n",
      "1777  Marques de Murrieta            Dalmau Rioja  1996.0        4.3   \n",
      "1778    Marques de Riscal           Rioja Reserva  1964.0        4.3   \n",
      "1786     Bodegas Faustino          I Gran Reserva  1968.0        4.3   \n",
      "1858     Bodegas Faustino          I Gran Reserva  1994.0        4.2   \n",
      "1994             Culebron  Fondillon Gran Reserva  1964.0        4.2   \n",
      "\n",
      "      num_avaliações            região   preço                  tipo  corpo  \\\n",
      "3               1705  Ribera del Duero  692.96  Ribera Del Duero Red      5   \n",
      "4               1309  Ribera del Duero  778.06  Ribera Del Duero Red      5   \n",
      "5               1209  Ribera del Duero  490.00  Ribera Del Duero Red      5   \n",
      "7                926  Ribera del Duero  810.89  Ribera Del Duero Red      5   \n",
      "13               417  Ribera del Duero  925.00  Ribera Del Duero Red      5   \n",
      "...              ...               ...     ...                   ...    ...   \n",
      "1777              29             Rioja  110.00             Rioja Red      4   \n",
      "1778              29             Rioja  310.00             Rioja Red      4   \n",
      "1786              28             Rioja  160.00             Rioja Red      4   \n",
      "1858            2074             Rioja  124.50             Rioja Red      4   \n",
      "1994             432          Alicante   49.95                   NaN      0   \n",
      "\n",
      "      acidez      Categoria  \n",
      "3          3  Vinhos Tintos  \n",
      "4          3  Vinhos Tintos  \n",
      "5          3  Vinhos Tintos  \n",
      "7          3  Vinhos Tintos  \n",
      "13         3  Vinhos Tintos  \n",
      "...      ...            ...  \n",
      "1777       3  Vinhos Tintos  \n",
      "1778       3  Vinhos Tintos  \n",
      "1786       3  Vinhos Tintos  \n",
      "1858       3  Vinhos Tintos  \n",
      "1994       0         Outros  \n",
      "\n",
      "[165 rows x 11 columns]\n",
      "\n",
      "Outliers na coluna 'avaliação':\n",
      "        vinícola          vinho     ano  avaliação  num_avaliações  \\\n",
      "0  Teso La Monja          Tinto  2013.0        4.9              58   \n",
      "1         Artadi  Vina El Pison  2018.0        4.9              31   \n",
      "\n",
      "           região  preço         tipo  corpo  acidez      Categoria  \n",
      "0            Toro  995.0     Toro Red      5       3  Vinhos Tintos  \n",
      "1  Vino de Espana  313.5  Tempranillo      4       2  Vinhos Tintos  \n",
      "\n",
      "Outliers na coluna 'num_avaliações':\n",
      "                     vinícola                      vinho     ano  avaliação  \\\n",
      "2                Vega Sicilia                      Unico  2009.0        4.8   \n",
      "3                Vega Sicilia                      Unico  1999.0        4.8   \n",
      "4                Vega Sicilia                      Unico  1996.0        4.8   \n",
      "5                Vega Sicilia                      Unico  1998.0        4.8   \n",
      "6                Vega Sicilia                      Unico  2010.0        4.8   \n",
      "...                       ...                        ...     ...        ...   \n",
      "1879                    Aster             Finca El Otero  2014.0        4.2   \n",
      "1880              Matarromera                    Crianza  2017.0        4.2   \n",
      "1881                  Gramona                    Gessami  2019.0        4.2   \n",
      "1882        Dominio de Atauta          Dominio de Atauta  2016.0        4.2   \n",
      "1883  Bodegas Ximenez-Spinola  Finest Old Harvest Medium     NaN        4.2   \n",
      "\n",
      "      num_avaliações              região   preço                  tipo  corpo  \\\n",
      "2               1793    Ribera del Duero  324.95  Ribera Del Duero Red      5   \n",
      "3               1705    Ribera del Duero  692.96  Ribera Del Duero Red      5   \n",
      "4               1309    Ribera del Duero  778.06  Ribera Del Duero Red      5   \n",
      "5               1209    Ribera del Duero  490.00  Ribera Del Duero Red      5   \n",
      "6               1201    Ribera del Duero  349.00  Ribera Del Duero Red      5   \n",
      "...              ...                 ...     ...                   ...    ...   \n",
      "1879            1267    Ribera del Duero   28.75  Ribera Del Duero Red      5   \n",
      "1880            1209    Ribera del Duero   16.88  Ribera Del Duero Red      5   \n",
      "1881            1164             Penedes    9.95                   NaN      0   \n",
      "1882            1159    Ribera del Duero   25.71  Ribera Del Duero Red      5   \n",
      "1883            1155  Jerez-Xeres-Sherry   18.87         Pedro Ximenez      5   \n",
      "\n",
      "      acidez            Categoria  \n",
      "2          3        Vinhos Tintos  \n",
      "3          3        Vinhos Tintos  \n",
      "4          3        Vinhos Tintos  \n",
      "5          3        Vinhos Tintos  \n",
      "6          3        Vinhos Tintos  \n",
      "...      ...                  ...  \n",
      "1879       3        Vinhos Tintos  \n",
      "1880       3        Vinhos Tintos  \n",
      "1881       0               Outros  \n",
      "1882       3        Vinhos Tintos  \n",
      "1883       1  Vinhos Fortificados  \n",
      "\n",
      "[242 rows x 11 columns]\n",
      "\n",
      "Outliers na coluna 'preço':\n",
      "                       vinícola                           vinho     ano  \\\n",
      "0                 Teso La Monja                           Tinto  2013.0   \n",
      "1                        Artadi                   Vina El Pison  2018.0   \n",
      "2                  Vega Sicilia                           Unico  2009.0   \n",
      "3                  Vega Sicilia                           Unico  1999.0   \n",
      "4                  Vega Sicilia                           Unico  1996.0   \n",
      "...                         ...                             ...     ...   \n",
      "1668              La Rioja Alta                Gran Reserva 890  1981.0   \n",
      "1670  Terroir Al Limit Soc. Lda                      Les Manyes  2012.0   \n",
      "1727  Bodegas Y Vinedos Alilian  Camino del Abuelo Vinas Viejas  2013.0   \n",
      "1776                        AGE          Fuenmayor Gran Reserva  1959.0   \n",
      "1778          Marques de Riscal                   Rioja Reserva  1964.0   \n",
      "\n",
      "      avaliação  num_avaliações            região   preço  \\\n",
      "0           4.9              58              Toro  995.00   \n",
      "1           4.9              31    Vino de Espana  313.50   \n",
      "2           4.8            1793  Ribera del Duero  324.95   \n",
      "3           4.8            1705  Ribera del Duero  692.96   \n",
      "4           4.8            1309  Ribera del Duero  778.06   \n",
      "...         ...             ...               ...     ...   \n",
      "1668        4.3              47             Rioja  270.00   \n",
      "1670        4.3              46          Priorato  348.85   \n",
      "1727        4.3              36  Ribera del Duero  243.80   \n",
      "1776        4.3              29             Rioja  230.00   \n",
      "1778        4.3              29             Rioja  310.00   \n",
      "\n",
      "                      tipo  corpo  acidez      Categoria  \n",
      "0                 Toro Red      5       3  Vinhos Tintos  \n",
      "1              Tempranillo      4       2  Vinhos Tintos  \n",
      "2     Ribera Del Duero Red      5       3  Vinhos Tintos  \n",
      "3     Ribera Del Duero Red      5       3  Vinhos Tintos  \n",
      "4     Ribera Del Duero Red      5       3  Vinhos Tintos  \n",
      "...                    ...    ...     ...            ...  \n",
      "1668             Rioja Red      4       3  Vinhos Tintos  \n",
      "1670           Priorat Red      4       3  Vinhos Tintos  \n",
      "1727  Ribera Del Duero Red      5       3  Vinhos Tintos  \n",
      "1776             Rioja Red      4       3  Vinhos Tintos  \n",
      "1778             Rioja Red      4       3  Vinhos Tintos  \n",
      "\n",
      "[245 rows x 11 columns]\n",
      "\n",
      "Outliers na coluna 'corpo':\n",
      "                  vinícola                                       vinho  \\\n",
      "120          Finca Moncloa                            Tintilla de Rota   \n",
      "129               Recaredo                              Turo d'en Mota   \n",
      "147        Rafael Palacios                   Sorte O Soro Val do Bibei   \n",
      "148               Recaredo  Reserva Particular de Recaredo Brut Nature   \n",
      "156   Gutierrez de la Vega          Recondita Armonia Monastrell Dulce   \n",
      "...                    ...                                         ...   \n",
      "2020           Mustiguillo                             Finca Terrerazo   \n",
      "2021           Matarromera                                Gran Reserva   \n",
      "2022              Sei Solo                                    Preludio   \n",
      "2023    Vinedos de Paganos                                  El Puntido   \n",
      "2047     Remirez de Ganuza                                Rioja Blanco   \n",
      "\n",
      "         ano  avaliação  num_avaliações            região   preço  \\\n",
      "120   2016.0        4.7              92             Cadiz   43.13   \n",
      "129   2007.0        4.7              64              Cava   99.00   \n",
      "147   2019.0        4.7              37        Valdeorras  194.86   \n",
      "148   2011.0        4.7              35              Cava   65.05   \n",
      "156   1987.0        4.7              27          Alicante   81.90   \n",
      "...      ...        ...             ...               ...     ...   \n",
      "2020  2017.0        4.2             390      El Terrerazo   24.45   \n",
      "2021  2011.0        4.2             389  Ribera del Duero   64.50   \n",
      "2022  2016.0        4.2             388  Ribera del Duero   31.63   \n",
      "2023  2005.0        4.2             384             Rioja   73.00   \n",
      "2047  2017.0        4.2             421             Rioja   29.15   \n",
      "\n",
      "                      tipo  corpo  acidez          Categoria  \n",
      "120                    NaN      0       0             Outros  \n",
      "129                   Cava      2       3  Vinhos Espumantes  \n",
      "147                    NaN      0       0             Outros  \n",
      "148                   Cava      2       3  Vinhos Espumantes  \n",
      "156                    NaN      0       0             Outros  \n",
      "...                    ...    ...     ...                ...  \n",
      "2020                   Red      0       0      Vinhos Tintos  \n",
      "2021  Ribera Del Duero Red      0       0      Vinhos Tintos  \n",
      "2022  Ribera Del Duero Red      0       0      Vinhos Tintos  \n",
      "2023             Rioja Red      0       0      Vinhos Tintos  \n",
      "2047           Rioja White      0       0     Vinhos Brancos  \n",
      "\n",
      "[305 rows x 11 columns]\n",
      "\n",
      "Outliers na coluna 'acidez':\n",
      "                vinícola                      vinho     ano  avaliação  \\\n",
      "1                 Artadi              Vina El Pison  2018.0        4.9   \n",
      "14           Toro Albala  Don PX Convento Seleccion  1946.0        4.8   \n",
      "23           Toro Albala  Don PX Convento Seleccion  1931.0        4.8   \n",
      "26           Toro Albala       Don PX Pedro Ximenez  1946.0        4.8   \n",
      "32           Toro Albala  Don PX Convento Seleccion  1929.0        4.8   \n",
      "...                  ...                        ...     ...        ...   \n",
      "2021         Matarromera               Gran Reserva  2011.0        4.2   \n",
      "2022            Sei Solo                   Preludio  2016.0        4.2   \n",
      "2023  Vinedos de Paganos                 El Puntido  2005.0        4.2   \n",
      "2039              Artadi                 Valdegines  2016.0        4.2   \n",
      "2047   Remirez de Ganuza               Rioja Blanco  2017.0        4.2   \n",
      "\n",
      "      num_avaliações            região   preço                  tipo  corpo  \\\n",
      "1                 31    Vino de Espana  313.50           Tempranillo      4   \n",
      "14               398  Montilla-Moriles  350.00         Pedro Ximenez      5   \n",
      "23               139  Montilla-Moriles  244.85         Pedro Ximenez      5   \n",
      "26               103  Montilla-Moriles  285.86         Pedro Ximenez      5   \n",
      "32                69  Montilla-Moriles  227.95         Pedro Ximenez      5   \n",
      "...              ...               ...     ...                   ...    ...   \n",
      "2021             389  Ribera del Duero   64.50  Ribera Del Duero Red      0   \n",
      "2022             388  Ribera del Duero   31.63  Ribera Del Duero Red      0   \n",
      "2023             384             Rioja   73.00             Rioja Red      0   \n",
      "2039             398    Vino de Espana   48.96           Tempranillo      4   \n",
      "2047             421             Rioja   29.15           Rioja White      0   \n",
      "\n",
      "      acidez            Categoria  \n",
      "1          2        Vinhos Tintos  \n",
      "14         1  Vinhos Fortificados  \n",
      "23         1  Vinhos Fortificados  \n",
      "26         1  Vinhos Fortificados  \n",
      "32         1  Vinhos Fortificados  \n",
      "...      ...                  ...  \n",
      "2021       0        Vinhos Tintos  \n",
      "2022       0        Vinhos Tintos  \n",
      "2023       0        Vinhos Tintos  \n",
      "2039       2        Vinhos Tintos  \n",
      "2047       0       Vinhos Brancos  \n",
      "\n",
      "[376 rows x 11 columns]\n",
      "\n"
     ]
    }
   ],
   "source": [
    "# Detectando outliers apenas para colunas numéricas\n",
    "for col in df.select_dtypes(include=[np.number]).columns:  # Filtra apenas colunas numéricas\n",
    "    outliers = detect_outliers_iqr(df, col)\n",
    "    print(f\"Outliers na coluna '{col}':\\n{outliers}\\n\")"
   ]
  },
  {
   "cell_type": "markdown",
   "metadata": {},
   "source": [
    "Acima temos uma lista com os valores discrepantes das colunas númericas."
   ]
  },
  {
   "cell_type": "markdown",
   "metadata": {},
   "source": [
    "* **Estruturação de Variáveis**:"
   ]
  },
  {
   "cell_type": "code",
   "execution_count": 70,
   "metadata": {},
   "outputs": [],
   "source": [
    "# Variável alvo\n",
    "target_variable = 'preço'\n",
    "\n",
    "# Variáveis inúteis\n",
    "useless_variables = (\n",
    "    df_dict\n",
    "    .query(\"tipo == 'inútil'\")\n",
    "    .variavel\n",
    "    .to_list()\n",
    ")\n",
    "\n",
    "# Variáveis nominais\n",
    "nominal_variables = (\n",
    "    df_dict\n",
    "    .query(\"subtipo == 'nominal' and variavel != @target_variable\")\n",
    "    .variavel\n",
    "    .to_list()\n",
    ")\n",
    "\n",
    "# Variáveis ordinais\n",
    "ordinal_variables = (\n",
    "    df_dict\n",
    "    .query(\"subtipo == 'ordinal' and variavel != @target_variable\")\n",
    "    .variavel\n",
    "    .to_list()\n",
    ")\n",
    "\n",
    "# Variáveis contínuas\n",
    "continuous_variables = (\n",
    "    df_dict\n",
    "    .query(\"subtipo == 'contínua' and variavel != @target_variable\")\n",
    "    .variavel\n",
    "    .to_list()\n",
    ")\n",
    "\n",
    "# Variáveis discretas\n",
    "discrete_variables = (\n",
    "    df_dict\n",
    "    .query(\"subtipo == 'discreta' and variavel != @target_variable\")\n",
    "    .variavel\n",
    "    .to_list()\n",
    ")"
   ]
  },
  {
   "cell_type": "code",
   "execution_count": 82,
   "metadata": {},
   "outputs": [
    {
     "name": "stdout",
     "output_type": "stream",
     "text": [
      "Nominal Variables: ['vinícola', 'vinho', 'região', 'tipo', 'Categoria']\n",
      "Ordinal Variables: ['corpo', 'acidez']\n",
      "Continuous Variables: ['avaliação']\n",
      "Discrete Variables: ['ano', 'num_avaliações']\n"
     ]
    }
   ],
   "source": [
    "# Exibindo as categorias de variáveis\n",
    "print(\"Nominal Variables:\", nominal_variables)\n",
    "print(\"Ordinal Variables:\", ordinal_variables)\n",
    "print(\"Continuous Variables:\", continuous_variables)\n",
    "print(\"Discrete Variables:\", discrete_variables)"
   ]
  },
  {
   "cell_type": "markdown",
   "metadata": {},
   "source": [
    "O código acima organiza e prepara os dados de forma sistemática para análise ou modelagem. Ele facilita a aplicação de diferentes técnicas a cada tipo de variável, como codificação (para nominais) ou normalização (para contínuas)"
   ]
  },
  {
   "cell_type": "markdown",
   "metadata": {},
   "source": [
    "* **Separando as variáveis preditoras (x) e a variável alvo (y)** :"
   ]
  },
  {
   "cell_type": "code",
   "execution_count": null,
   "metadata": {},
   "outputs": [],
   "source": [
    "X = df.drop(columns=[target_variable] + useless_variables)\n",
    "y = df[target_variable]"
   ]
  },
  {
   "cell_type": "code",
   "execution_count": 80,
   "metadata": {},
   "outputs": [
    {
     "name": "stdout",
     "output_type": "stream",
     "text": [
      "\n",
      "X (features):\n",
      "                 vinícola            vinho     ano  avaliação  num_avaliações  \\\n",
      "0          Teso La Monja            Tinto  2013.0        4.9              58   \n",
      "1                 Artadi    Vina El Pison  2018.0        4.9              31   \n",
      "2           Vega Sicilia            Unico  2009.0        4.8            1793   \n",
      "3           Vega Sicilia            Unico  1999.0        4.8            1705   \n",
      "4           Vega Sicilia            Unico  1996.0        4.8            1309   \n",
      "...                  ...              ...     ...        ...             ...   \n",
      "2043         Mustiguillo  Finca Terrerazo  2017.0        4.2             390   \n",
      "2044         Matarromera     Gran Reserva  2011.0        4.2             389   \n",
      "2045            Sei Solo         Preludio  2016.0        4.2             388   \n",
      "2046  Vinedos de Paganos       El Puntido  2005.0        4.2             384   \n",
      "2047   Remirez de Ganuza     Rioja Blanco  2017.0        4.2             421   \n",
      "\n",
      "                região                  tipo  corpo  acidez       Categoria  \n",
      "0                 Toro              Toro Red      5       3   Vinhos Tintos  \n",
      "1       Vino de Espana           Tempranillo      4       2   Vinhos Tintos  \n",
      "2     Ribera del Duero  Ribera Del Duero Red      5       3   Vinhos Tintos  \n",
      "3     Ribera del Duero  Ribera Del Duero Red      5       3   Vinhos Tintos  \n",
      "4     Ribera del Duero  Ribera Del Duero Red      5       3   Vinhos Tintos  \n",
      "...                ...                   ...    ...     ...             ...  \n",
      "2043      El Terrerazo                   Red      4       3   Vinhos Tintos  \n",
      "2044  Ribera del Duero  Ribera Del Duero Red      5       3   Vinhos Tintos  \n",
      "2045  Ribera del Duero  Ribera Del Duero Red      5       3   Vinhos Tintos  \n",
      "2046             Rioja             Rioja Red      4       3   Vinhos Tintos  \n",
      "2047             Rioja           Rioja White      0       0  Vinhos Brancos  \n",
      "\n",
      "[2048 rows x 10 columns]\n"
     ]
    }
   ],
   "source": [
    "print(\"\\nX (features):\\n\", X)"
   ]
  },
  {
   "cell_type": "code",
   "execution_count": 81,
   "metadata": {},
   "outputs": [
    {
     "name": "stdout",
     "output_type": "stream",
     "text": [
      "\n",
      "y (target):\n",
      " 0       995.00\n",
      "1       313.50\n",
      "2       324.95\n",
      "3       692.96\n",
      "4       778.06\n",
      "         ...  \n",
      "2043     24.45\n",
      "2044     64.50\n",
      "2045     31.63\n",
      "2046     73.00\n",
      "2047     29.15\n",
      "Name: preço, Length: 2048, dtype: float64\n"
     ]
    }
   ],
   "source": [
    "print(\"\\ny (target):\\n\", y)"
   ]
  },
  {
   "cell_type": "markdown",
   "metadata": {},
   "source": [
    "* **Pipelines de pré-processamento por tipo de variável** :"
   ]
  },
  {
   "cell_type": "code",
   "execution_count": 73,
   "metadata": {},
   "outputs": [],
   "source": [
    "# Nominal variables: imputação de valores faltantes e codificação one-hot\n",
    "nominal_preprocessor = Pipeline(steps=[\n",
    "    (\"missing\", SimpleImputer(strategy=\"most_frequent\")),  # Preenchimento com o valor mais frequente\n",
    "    (\"encoding\", OneHotEncoder(sparse_output=False))  # Codificação One-Hot\n",
    "])\n",
    "\n",
    "# Ordinal variables: imputação de valores faltantes e codificação ordinal\n",
    "ordinal_preprocessor = Pipeline(steps=[\n",
    "    (\"missing\", SimpleImputer(strategy=\"median\")),  # Preenchimento com a mediana\n",
    "    (\"encoding\", OrdinalEncoder())  # Codificação ordinal\n",
    "])\n",
    "\n",
    "# Continuous variables: imputação de valores faltantes e normalização\n",
    "continuous_preprocessor = Pipeline(steps=[\n",
    "    (\"missing\", SimpleImputer(strategy=\"mean\")),  # Preenchimento com a média\n",
    "    (\"normalization\", StandardScaler())  # Normalização\n",
    "])\n",
    "\n",
    "# Discrete variables: imputação de valores faltantes e normalização\n",
    "discrete_preprocessor = Pipeline(steps=[\n",
    "    (\"missing\", KNNImputer()),  # Preenchimento baseado em K vizinhos mais próximos\n",
    "    (\"normalization\", StandardScaler())  # Normalização\n",
    "])"
   ]
  },
  {
   "cell_type": "markdown",
   "metadata": {},
   "source": [
    "Esse código acima organiza pipelines para pré-processar variáveis diferentes (nominais, ordinais, contínuas e discretas). Cada tipo de variável tem necessidades específicas, como tratamento de valores faltantes ou codificação."
   ]
  },
  {
   "cell_type": "code",
   "execution_count": null,
   "metadata": {},
   "outputs": [
    {
     "name": "stdout",
     "output_type": "stream",
     "text": [
      "Nominal Preprocessor: Pipeline(steps=[('missing', SimpleImputer(strategy='most_frequent')),\n",
      "                ('encoding', OneHotEncoder(sparse_output=False))])\n",
      "Ordinal Preprocessor: Pipeline(steps=[('missing', SimpleImputer(strategy='median')),\n",
      "                ('encoding', OrdinalEncoder())])\n",
      "Continuous Preprocessor: Pipeline(steps=[('missing', SimpleImputer()),\n",
      "                ('normalization', StandardScaler())])\n",
      "Discrete Preprocessor: Pipeline(steps=[('missing', KNNImputer()), ('normalization', StandardScaler())])\n"
     ]
    }
   ],
   "source": [
    "# exibir os pré-processadores criados\n",
    "print(\"Nominal Preprocessor:\", nominal_preprocessor)\n",
    "print(\"Ordinal Preprocessor:\", ordinal_preprocessor)\n",
    "print(\"Continuous Preprocessor:\", continuous_preprocessor)\n",
    "print(\"Discrete Preprocessor:\", discrete_preprocessor)"
   ]
  },
  {
   "cell_type": "markdown",
   "metadata": {},
   "source": [
    "* **Selecionando variáveis com base no dados_dict** :"
   ]
  },
  {
   "cell_type": "code",
   "execution_count": null,
   "metadata": {},
   "outputs": [],
   "source": [
    "# Criação do ColumnTransformer para processar cada tipo de variável\n",
    "preprocessor = ColumnTransformer([\n",
    "    (\"nominal\", nominal_preprocessor, nominal_variables),   \n",
    "    (\"ordinal\", ordinal_preprocessor, ordinal_variables),   \n",
    "    (\"continuous\", continuous_preprocessor, continuous_variables),  \n",
    "    (\"discrete\", discrete_preprocessor, discrete_variables), \n",
    "])"
   ]
  },
  {
   "cell_type": "markdown",
   "metadata": {},
   "source": [
    "As variáveis nominais, contínuas, ordinais e discretas são extraídas do dicionário de dados com base no subtipo. Isso assegura que cada tipo de dado seja tratado com o pipeline apropriado."
   ]
  },
  {
   "cell_type": "code",
   "execution_count": null,
   "metadata": {},
   "outputs": [
    {
     "name": "stdout",
     "output_type": "stream",
     "text": [
      "ColumnTransformer(transformers=[('nominal',\n",
      "                                 Pipeline(steps=[('missing',\n",
      "                                                  SimpleImputer(strategy='most_frequent')),\n",
      "                                                 ('encoding',\n",
      "                                                  OneHotEncoder(sparse_output=False))]),\n",
      "                                 ['vinícola', 'vinho', 'região', 'tipo',\n",
      "                                  'Categoria']),\n",
      "                                ('ordinal',\n",
      "                                 Pipeline(steps=[('missing',\n",
      "                                                  SimpleImputer(strategy='median')),\n",
      "                                                 ('encoding',\n",
      "                                                  OrdinalEncoder())]),\n",
      "                                 ['corpo', 'acidez']),\n",
      "                                ('continuous',\n",
      "                                 Pipeline(steps=[('missing', SimpleImputer()),\n",
      "                                                 ('normalization',\n",
      "                                                  StandardScaler())]),\n",
      "                                 ['avaliação']),\n",
      "                                ('discrete',\n",
      "                                 Pipeline(steps=[('missing', KNNImputer()),\n",
      "                                                 ('normalization',\n",
      "                                                  StandardScaler())]),\n",
      "                                 ['ano', 'num_avaliações'])])\n"
     ]
    }
   ],
   "source": [
    "print(preprocessor)"
   ]
  },
  {
   "cell_type": "markdown",
   "metadata": {},
   "source": [
    "* **Aplicando o preprocessor aos dados** :"
   ]
  },
  {
   "cell_type": "code",
   "execution_count": 77,
   "metadata": {},
   "outputs": [],
   "source": [
    "X_preprocessed = preprocessor.fit_transform(X)"
   ]
  },
  {
   "cell_type": "markdown",
   "metadata": {},
   "source": [
    "Acima Treina o pipeline no dataset (fit) e transforma os dados (transform) de acordo com os passos definidos."
   ]
  },
  {
   "cell_type": "code",
   "execution_count": 78,
   "metadata": {},
   "outputs": [
    {
     "name": "stdout",
     "output_type": "stream",
     "text": [
      "Dados pré-processados:\n",
      "[[ 0.          0.          0.         ...  3.39402046  0.16675855\n",
      "  -0.37504593]\n",
      " [ 0.          0.          0.         ...  3.39402046  0.62045099\n",
      "  -0.39467063]\n",
      " [ 0.          0.          0.         ...  2.71368828 -0.1961954\n",
      "   0.8860228 ]\n",
      " ...\n",
      " [ 0.          0.          0.         ... -1.36830481  0.43897402\n",
      "  -0.13518848]\n",
      " [ 0.          0.          0.         ... -1.36830481 -0.55914935\n",
      "  -0.13809584]\n",
      " [ 0.          0.          0.         ... -1.36830481  0.52971251\n",
      "  -0.11120273]]\n"
     ]
    }
   ],
   "source": [
    "print(\"Dados pré-processados:\")\n",
    "print(X_preprocessed)"
   ]
  }
 ],
 "metadata": {
  "kernelspec": {
   "display_name": "base",
   "language": "python",
   "name": "python3"
  },
  "language_info": {
   "codemirror_mode": {
    "name": "ipython",
    "version": 3
   },
   "file_extension": ".py",
   "mimetype": "text/x-python",
   "name": "python",
   "nbconvert_exporter": "python",
   "pygments_lexer": "ipython3",
   "version": "3.11.7"
  }
 },
 "nbformat": 4,
 "nbformat_minor": 2
}
